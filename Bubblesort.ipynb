{
  "nbformat": 4,
  "nbformat_minor": 0,
  "metadata": {
    "colab": {
      "provenance": [],
      "authorship_tag": "ABX9TyMqSzbp2UgiJz3NZzkSFL4W",
      "include_colab_link": true
    },
    "kernelspec": {
      "name": "python3",
      "display_name": "Python 3"
    },
    "language_info": {
      "name": "python"
    }
  },
  "cells": [
    {
      "cell_type": "markdown",
      "metadata": {
        "id": "view-in-github",
        "colab_type": "text"
      },
      "source": [
        "<a href=\"https://colab.research.google.com/github/sarvancs17/Bubblesort/blob/main/Bubblesort.ipynb\" target=\"_parent\"><img src=\"https://colab.research.google.com/assets/colab-badge.svg\" alt=\"Open In Colab\"/></a>"
      ]
    },
    {
      "cell_type": "code",
      "execution_count": null,
      "metadata": {
        "id": "o9iWzHJGAT-N",
        "outputId": "2f60f7e0-ef68-4ec7-d459-07c13c53ef6c",
        "colab": {
          "base_uri": "https://localhost:8080/"
        }
      },
      "outputs": [
        {
          "output_type": "stream",
          "name": "stdout",
          "text": [
            "Sorted list is:  [1, 2, 3, 4, 5]\n"
          ]
        }
      ],
      "source": [
        "# Bubble Sort\n",
        "def bubble_sort(lst):\n",
        "    \"\"\"\n",
        "    Bubble sort function\n",
        "    :param lst: lst of unsorted integers\n",
        "    \"\"\"\n",
        "\n",
        "    # Traverse through all list elements\n",
        "    for i in range(len(lst)):\n",
        "\n",
        "        # Last i elements are already in place\n",
        "        for j in range(0, len(lst) - i - 1):\n",
        "\n",
        "            # Traverse the list from 0 to size of lst - i - 1\n",
        "            # Swap if the element found is greater than the next element\n",
        "            if lst[j] > lst[j + 1]:\n",
        "                lst[j], lst[j + 1] = lst[j + 1], lst[j]\n",
        "\n",
        "\n",
        "lst = [3, 2, 1, 5, 4]\n",
        "bubble_sort(lst)  # Calling bubble sort function\n",
        "print(\"Sorted list is: \", lst)"
      ]
    },
    {
      "cell_type": "code",
      "source": [],
      "metadata": {
        "id": "ggn7oYA_AiT9"
      },
      "execution_count": null,
      "outputs": []
    }
  ]
}