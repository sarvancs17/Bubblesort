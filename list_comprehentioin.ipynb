{
  "nbformat": 4,
  "nbformat_minor": 0,
  "metadata": {
    "colab": {
      "provenance": [],
      "authorship_tag": "ABX9TyNth67GLH7a8e7Jz2bvDLsV",
      "include_colab_link": true
    },
    "kernelspec": {
      "name": "python3",
      "display_name": "Python 3"
    },
    "language_info": {
      "name": "python"
    }
  },
  "cells": [
    {
      "cell_type": "markdown",
      "metadata": {
        "id": "view-in-github",
        "colab_type": "text"
      },
      "source": [
        "<a href=\"https://colab.research.google.com/github/sarvancs17/Bubblesort/blob/main/list_comprehentioin.ipynb\" target=\"_parent\"><img src=\"https://colab.research.google.com/assets/colab-badge.svg\" alt=\"Open In Colab\"/></a>"
      ]
    },
    {
      "cell_type": "code",
      "execution_count": null,
      "metadata": {
        "colab": {
          "base_uri": "https://localhost:8080/"
        },
        "id": "W-ONKr_Sd-g5",
        "outputId": "3f63665b-d91b-40ab-f9eb-402e47befbab"
      },
      "outputs": [
        {
          "output_type": "stream",
          "name": "stdout",
          "text": [
            "[1, 2, 3]\n"
          ]
        }
      ],
      "source": [
        "\n",
        "# Using list comprehension to iterate through loop\n",
        "List = [character for character in [1, 2, 3]]\n",
        "\n",
        "# Displaying list\n",
        "print(List)"
      ]
    },
    {
      "cell_type": "code",
      "source": [
        "List=[i for i in range(50) if i % 2 == 0]\n",
        "print(List)"
      ],
      "metadata": {
        "colab": {
          "base_uri": "https://localhost:8080/"
        },
        "id": "N1Nzabv_2MTy",
        "outputId": "42e0797f-c3e9-4895-b47a-26fe282060c8"
      },
      "execution_count": null,
      "outputs": [
        {
          "output_type": "stream",
          "name": "stdout",
          "text": [
            "[0, 2, 4, 6, 8, 10, 12, 14, 16, 18, 20, 22, 24, 26, 28, 30, 32, 34, 36, 38, 40, 42, 44, 46, 48]\n"
          ]
        }
      ]
    },
    {
      "cell_type": "code",
      "source": [
        "matrix=[[j for j in range(3)] for i in range(3)]\n",
        "print(matrix)"
      ],
      "metadata": {
        "colab": {
          "base_uri": "https://localhost:8080/"
        },
        "id": "zB0fKxJq2rgD",
        "outputId": "a633f28b-2e26-4cf9-a5c7-81480b0642d9"
      },
      "execution_count": null,
      "outputs": [
        {
          "output_type": "stream",
          "name": "stdout",
          "text": [
            "[[0, 1, 2], [0, 1, 2], [0, 1, 2]]\n"
          ]
        }
      ]
    },
    {
      "cell_type": "code",
      "source": [
        "#Traditional approach\n",
        "empty_list=[]\n",
        "for chars in \"viva usa inc\":\n",
        "  print(chars)\n",
        "  empty_list.append(chars)\n",
        "print(empty_list)"
      ],
      "metadata": {
        "colab": {
          "base_uri": "https://localhost:8080/"
        },
        "id": "oYwaLI1A9tGi",
        "outputId": "e3d43736-80a0-4629-d805-1312f820d7cb"
      },
      "execution_count": null,
      "outputs": [
        {
          "output_type": "stream",
          "name": "stdout",
          "text": [
            "v\n",
            "i\n",
            "v\n",
            "a\n",
            " \n",
            "u\n",
            "s\n",
            "a\n",
            " \n",
            "i\n",
            "n\n",
            "c\n",
            "['v', 'i', 'v', 'a', ' ', 'u', 's', 'a', ' ', 'i', 'n', 'c']\n"
          ]
        }
      ]
    },
    {
      "cell_type": "code",
      "source": [
        "#using list comprehention\n",
        "List=[chars for chars in \"viva usa inc\"]\n",
        "print(List)"
      ],
      "metadata": {
        "colab": {
          "base_uri": "https://localhost:8080/"
        },
        "id": "0FgRny-S_Ecr",
        "outputId": "6b249163-f8cf-42bd-f49f-28faeaeccfdd"
      },
      "execution_count": null,
      "outputs": [
        {
          "output_type": "stream",
          "name": "stdout",
          "text": [
            "['v', 'i', 'v', 'a', ' ', 'u', 's', 'a', ' ', 'i', 'n', 'c']\n"
          ]
        }
      ]
    },
    {
      "cell_type": "code",
      "source": [
        "matrix=[[j for j in range(3)]  for i in range(3)]\n",
        "print(matrix)"
      ],
      "metadata": {
        "colab": {
          "base_uri": "https://localhost:8080/"
        },
        "id": "kxbBWNwM_rBx",
        "outputId": "0425056a-c8f2-48ab-dd20-4045cf9770a6"
      },
      "execution_count": null,
      "outputs": [
        {
          "output_type": "stream",
          "name": "stdout",
          "text": [
            "[[0, 1, 2], [0, 1, 2], [0, 1, 2]]\n"
          ]
        }
      ]
    },
    {
      "cell_type": "code",
      "source": [
        "#print 10 Multiplied numbers\n",
        "\n",
        "lists=[]\n",
        "for i in range(1,10):\n",
        "  lists.append(i*10)\n",
        "print(lists)\n"
      ],
      "metadata": {
        "colab": {
          "base_uri": "https://localhost:8080/"
        },
        "id": "xV_Y1yusDz-v",
        "outputId": "8cc214f6-7563-40c8-a2e1-e1a9ad96ee07"
      },
      "execution_count": null,
      "outputs": [
        {
          "output_type": "stream",
          "name": "stdout",
          "text": [
            "[10, 20, 30, 40, 50, 60, 70, 80, 90]\n"
          ]
        }
      ]
    },
    {
      "cell_type": "code",
      "source": [
        "numbers=[i*10 for i in range(1,10)]\n",
        "print(numbers)"
      ],
      "metadata": {
        "colab": {
          "base_uri": "https://localhost:8080/"
        },
        "id": "wkJo9YzfEnVc",
        "outputId": "905668d1-6f9b-4659-aead-8cde1857da6e"
      },
      "execution_count": null,
      "outputs": [
        {
          "output_type": "stream",
          "name": "stdout",
          "text": [
            "[10, 20, 30, 40, 50, 60, 70, 80, 90]\n"
          ]
        }
      ]
    },
    {
      "cell_type": "code",
      "source": [
        "numbers = list(map( lambda i: i*10, [i for i in range(1,10)]))\n",
        "print(numbers)"
      ],
      "metadata": {
        "colab": {
          "base_uri": "https://localhost:8080/"
        },
        "id": "w0EBwDErjpT0",
        "outputId": "a32a1fc7-b546-4979-d2e4-bdda30741605"
      },
      "execution_count": null,
      "outputs": [
        {
          "output_type": "stream",
          "name": "stdout",
          "text": [
            "[10, 20, 30, 40, 50, 60, 70, 80, 90]\n"
          ]
        }
      ]
    }
  ]
}